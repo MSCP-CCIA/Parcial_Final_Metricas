{
 "nbformat": 4,
 "nbformat_minor": 0,
 "metadata": {
  "colab": {
   "provenance": [],
   "gpuType": "T4"
  },
  "kernelspec": {
   "name": "python3",
   "display_name": "Python 3 (ipykernel)",
   "language": "python"
  },
  "language_info": {
   "name": "python"
  },
  "accelerator": "GPU"
 },
 "cells": [
  {
   "cell_type": "markdown",
   "source": [
    "# Metricas\n",
    "---\n",
    "\n",
    "- **Taller 3**: Pipe-line de entrenamiento.\n",
    "- **Fecha de entrega**: 7 de Junio de 2023.\n"
   ],
   "metadata": {
    "id": "OSQGVvroGMC-"
   }
  },
  {
   "metadata": {
    "ExecuteTime": {
     "end_time": "2024-06-05T23:05:30.351137Z",
     "start_time": "2024-06-05T23:05:30.335502Z"
    }
   },
   "cell_type": "code",
   "source": [
    "import pandas as pd\n",
    "import numpy as np"
   ],
   "outputs": [],
   "execution_count": 7
  },
  {
   "cell_type": "markdown",
   "source": [
    "En esta ocasión crearán un calificador capas de identificar si una palabra pertenece al lenguaje inglés o español."
   ],
   "metadata": {
    "id": "mC06A62ypZQ4"
   }
  },
  {
   "cell_type": "markdown",
   "source": [
    "#0. Cargue el conjunto de datos\n",
    "\n",
    "Inicialmente, necesitará un corpus correspondiente a ambos idiomas, descárguelos (español: https://github.com/webpwnized/byepass/blob/master/dictionaries/top-10000-spanish-words.txt, inglés: https://github.com/webpwnized/byepass/blob/master/dictionaries/top-10000-english-words.txt)\n",
    "\n",
    "Considere únicamente las palabras mayores a 4 caracteres e ignore cualquier acento"
   ],
   "metadata": {
    "id": "VZ-Qr2GhJVNC"
   }
  },
  {
   "cell_type": "code",
   "source": [
    "with open('top-10000-spanish-words.txt', 'r', encoding='utf-8') as f:\n",
    "    palabras_espanol = f.read().splitlines()\n",
    "    palabras_espanol = [palabra for palabra in palabras_espanol if len(palabra) >= 4]\n",
    "with open('top-10000-english-words.txt', 'r', encoding='utf-8') as f:\n",
    "    palabras_ingles = f.read().splitlines()\n",
    "    palabras_ingles = [palabra for palabra in palabras_ingles if len(palabra) >= 4]\n",
    "etiquetas_espanol = ['español'] * len(palabras_espanol)\n",
    "etiquetas_ingles = ['ingles'] * len(palabras_ingles)\n",
    "data = pd.DataFrame({\n",
    "    'palabra': palabras_espanol + palabras_ingles,\n",
    "    'etiqueta': etiquetas_espanol + etiquetas_ingles\n",
    "})\n",
    "print(data)"
   ],
   "metadata": {
    "id": "JbGllmjhJ4zZ",
    "ExecuteTime": {
     "end_time": "2024-06-05T22:58:49.976131Z",
     "start_time": "2024-06-05T22:58:49.884353Z"
    }
   },
   "outputs": [
    {
     "name": "stdout",
     "output_type": "stream",
     "text": [
      "         palabra etiqueta\n",
      "0          añade  español\n",
      "1        añadido  español\n",
      "2         añadio  español\n",
      "3         añadir  español\n",
      "4          abajo  español\n",
      "...          ...      ...\n",
      "17175      zones   ingles\n",
      "17176     zoning   ingles\n",
      "17177  zoophilia   ingles\n",
      "17178       zope   ingles\n",
      "17179     zshops   ingles\n",
      "\n",
      "[17180 rows x 2 columns]\n"
     ]
    }
   ],
   "execution_count": 2
  },
  {
   "metadata": {},
   "cell_type": "code",
   "outputs": [],
   "execution_count": null,
   "source": ""
  },
  {
   "cell_type": "markdown",
   "source": [
    "# 1. Propongan un experimento (0.5)\n",
    "\n",
    "¡Señale de forma ESCRITA!, las partes de su experimento y como plantea desarrollarlas.\n",
    "\n",
    "**WARINING**\n",
    "\n",
    "Por favor no tome a la ligera el punto, sea detallado y cuidadoso con su propuesta, pues sí elige mal el desarrollo de su experimento, su nota en el resto de puntos se vera afectada!!!\n",
    "\n",
    "\n",
    "**Criterios de evolución**\n",
    "\n",
    "*   Si su respuesta no está escrita, este punto equivaldrá a 0\n",
    "*   Debe realizar las exploraciones necesarias que le permita obtener la información suficiente para identificar un diseño experimental correcto (ej: balance de clases, etc...).\n",
    "\n",
    "\n",
    "\n"
   ],
   "metadata": {
    "id": "UuuPFkUdPWRt"
   }
  },
  {
   "cell_type": "code",
   "source": [],
   "metadata": {
    "id": "On8gYlZ6q3C0"
   },
   "execution_count": null,
   "outputs": []
  },
  {
   "cell_type": "markdown",
   "source": [
    "#2. Precalcule diferentes matrices de kernel (0.5)\n",
    "\n",
    "Implemente diferentes kernels sobre los strings:\n",
    "\n",
    "*   Kernel coseno sobre el histograma: calcular una bolsa de representación de n-gramas (usar el CountVectorizer de scikit-learn) y aplicar el cosine_similarity (consulte: https://keepcoding.io/blog/similitud-entre-vectores-o-cosine-similarity/)\n",
    "\n",
    "*    Minima intersección de histograma: calcular una bolsa de n-gramas de representación, normalizarlo  y calcular la suma de los mínimos de cada bin del histograma (https://mpatacchiola.github.io/blog/2016/11/12/the-simplest-classifier-histogram-intersection.html).\n",
    "\n",
    "*   kernel χ2 : calcular una representación de bolsa de n-gramas y aplicar el chi2_kernel de scikit-learn (https://scikit-learn.org/stable/modules/generated/sklearn.metrics.pairwise.chi2_kernel.html).\n",
    "\n",
    "\n",
    "**FAQ**\n",
    "\n",
    "*   ¿Por qué este kernel?, recuerde que el kernel está estrechamente asociado a la naturaleza de los datos.\n",
    "*   ¿No entiendo el kernel de intersección?, en pocas palabras, imagine una matriz (tamaño 2,n). Donde cada fila corresponde al histograma de una observación. Calcule el mínimo entre filas, resultando un vector n posiciones, seguidamente sumelo!\n",
    "\n",
    "**Criterios de evolución**\n",
    "\n",
    "*   La función diseñada de permitir el cálculo EFICIENTE de la matriz de gram.\n",
    "\n"
   ],
   "metadata": {
    "id": "pMxTgtEfRRmY"
   }
  },
  {
   "cell_type": "code",
   "source": [
    "def cosine_similarity_manual(X, Y):\n",
    "    dot_product = np.dot(X, Y.T)\n",
    "    norms = np.linalg.norm(X, axis=1)[:, np.newaxis] * np.linalg.norm(Y, axis=1)[np.newaxis, :]\n",
    "    return dot_product / norms"
   ],
   "metadata": {
    "id": "NCEIqeCLuZ7k",
    "ExecuteTime": {
     "end_time": "2024-06-05T23:42:42.032993Z",
     "start_time": "2024-06-05T23:42:41.984389Z"
    }
   },
   "outputs": [],
   "execution_count": 8
  },
  {
   "metadata": {},
   "cell_type": "code",
   "outputs": [],
   "execution_count": null,
   "source": [
    "def histogram_intersection(h1, h2):\n",
    "    intersection = np.sum(np.minimum(h1, h2))\n",
    "    similarity = intersection / (np.sum(h1) + np.sum(h2) - intersection)\n",
    "    return similarity"
   ]
  },
  {
   "cell_type": "markdown",
   "source": [
    "#3. Identifique hiperparametros (1)\n",
    "\n",
    "Utilice scikit-learn para entrenar diferentes SVMs utilizando kernels precalculados. Utilice la validación cruzada para encontrar los parámetros de regularización apropiados trazando el error de entrenamiento y validación frente al parámetro de regularización. Utilice una escala logarítmica para C {1e-5,1e-4,1e-3,1e-2, 1e-1, 1}, Pruebe diferentes configuraciones de los parámetros (en particular, diferentes valores de n para la\n",
    "n-gramas).\n",
    "\n",
    "**FAQ**\n",
    "\n",
    "*   ¿Qué es una escala logarítmica?, como puede ver en el ejemplo, es una escala que se mueve a través de su potencia.\n",
    "*   ¿profe, por qué tarda tanto?, se los advertí ._________.\n",
    "\n",
    "**Criterios de evolución**\n",
    "\n",
    "*   Debe presentar la exploración de hiperparámetros completa y las gráficas del desempeño del modelo, respecto a la variación del parámetro C (en total debe salir una gráfica por cada combinación de kernel y grado de n-grama)."
   ],
   "metadata": {
    "id": "wp4bppOlWjHs"
   }
  },
  {
   "cell_type": "code",
   "source": [],
   "metadata": {
    "id": "izx4-grjXUu-"
   },
   "execution_count": null,
   "outputs": []
  },
  {
   "cell_type": "markdown",
   "source": [
    "#4. Evalue su modelo (0.5)\n",
    "\n",
    "*   Presente los resultados en una tabla para las distintas configuraciones evaluadas.\n",
    "\n",
    "*  Ilustre ejemplos de errores (palabras en inglés confundidas con español, palabras en español\n",
    "inglés). Dé una posible explicación de estos errores.\n",
    "\n",
    "\n",
    "* Discuta los resultados."
   ],
   "metadata": {
    "id": "27liX4P7wxDa"
   }
  },
  {
   "cell_type": "markdown",
   "source": [
    "introduzca su respuesta"
   ],
   "metadata": {
    "id": "mhwXHTAUxUzV"
   }
  }
 ]
}
